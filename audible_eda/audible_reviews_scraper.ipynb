{
 "cells": [
  {
   "cell_type": "code",
   "execution_count": 1,
   "metadata": {},
   "outputs": [],
   "source": [
    "import pandas as pd\n",
    "import numpy as np\n",
    "import matplotlib.pyplot as plt\n",
    "%matplotlib inline\n",
    "import nest_asyncio\n",
    "nest_asyncio.apply()\n",
    "from requests_html import HTML, HTMLSession, AsyncHTMLSession\n",
    "from threading import Thread\n",
    "import time"
   ]
  },
  {
   "cell_type": "code",
   "execution_count": 2,
   "metadata": {},
   "outputs": [],
   "source": [
    "df = pd.read_csv('/Users/cytology/Documents/code/datasets/all_english_audible.csv')\n",
    "df = df[~df['asin'].isnull()]"
   ]
  },
  {
   "cell_type": "code",
   "execution_count": 3,
   "metadata": {},
   "outputs": [
    {
     "data": {
      "text/plain": [
       "64023215.0"
      ]
     },
     "execution_count": 3,
     "metadata": {},
     "output_type": "execute_result"
    }
   ],
   "source": [
    "total_ratings = df['rating_count'].sum()\n",
    "total_ratings"
   ]
  },
  {
   "cell_type": "code",
   "execution_count": 4,
   "metadata": {},
   "outputs": [],
   "source": [
    "df = df.sort_values('rating_count', ascending=False)\n",
    "df.reset_index(inplace=True)"
   ]
  },
  {
   "cell_type": "code",
   "execution_count": 5,
   "metadata": {},
   "outputs": [
    {
     "data": {
      "text/html": [
       "<div>\n",
       "<style scoped>\n",
       "    .dataframe tbody tr th:only-of-type {\n",
       "        vertical-align: middle;\n",
       "    }\n",
       "\n",
       "    .dataframe tbody tr th {\n",
       "        vertical-align: top;\n",
       "    }\n",
       "\n",
       "    .dataframe thead th {\n",
       "        text-align: right;\n",
       "    }\n",
       "</style>\n",
       "<table border=\"1\" class=\"dataframe\">\n",
       "  <thead>\n",
       "    <tr style=\"text-align: right;\">\n",
       "      <th></th>\n",
       "      <th>index</th>\n",
       "      <th>asin</th>\n",
       "      <th>author</th>\n",
       "      <th>category</th>\n",
       "      <th>length</th>\n",
       "      <th>link</th>\n",
       "      <th>narrator</th>\n",
       "      <th>price</th>\n",
       "      <th>rating</th>\n",
       "      <th>rating_count</th>\n",
       "      <th>release_date</th>\n",
       "      <th>title</th>\n",
       "    </tr>\n",
       "  </thead>\n",
       "  <tbody>\n",
       "    <tr>\n",
       "      <th>0</th>\n",
       "      <td>247928</td>\n",
       "      <td>B005FRGT44</td>\n",
       "      <td>Ernest Cline</td>\n",
       "      <td>Sci-Fi &amp; Fantasy</td>\n",
       "      <td>15 hrs and 40 mins</td>\n",
       "      <td>https://www.audible.com/pd/Ready-Player-One-Au...</td>\n",
       "      <td>Wil Wheaton</td>\n",
       "      <td>31.50</td>\n",
       "      <td>5.0</td>\n",
       "      <td>216094.0</td>\n",
       "      <td>2011-08-16</td>\n",
       "      <td>Ready Player One</td>\n",
       "    </tr>\n",
       "    <tr>\n",
       "      <th>1</th>\n",
       "      <td>248009</td>\n",
       "      <td>B00B5HZGUG</td>\n",
       "      <td>Andy Weir</td>\n",
       "      <td>Sci-Fi &amp; Fantasy</td>\n",
       "      <td>10 hrs and 53 mins</td>\n",
       "      <td>https://www.audible.com/pd/The-Martian-Audiobo...</td>\n",
       "      <td>R. C. Bray</td>\n",
       "      <td>29.99</td>\n",
       "      <td>5.0</td>\n",
       "      <td>164988.0</td>\n",
       "      <td>2013-03-22</td>\n",
       "      <td>The Martian</td>\n",
       "    </tr>\n",
       "    <tr>\n",
       "      <th>2</th>\n",
       "      <td>142087</td>\n",
       "      <td>B00QXW5GYY</td>\n",
       "      <td>Paula Hawkins</td>\n",
       "      <td>Mysteries &amp; Thrillers</td>\n",
       "      <td>10 hrs and 58 mins</td>\n",
       "      <td>https://www.audible.com/pd/The-Girl-on-the-Tra...</td>\n",
       "      <td>Clare Corbett, Louise Brealey, India Fisher</td>\n",
       "      <td>28.00</td>\n",
       "      <td>4.5</td>\n",
       "      <td>133818.0</td>\n",
       "      <td>2015-01-13</td>\n",
       "      <td>The Girl on the Train</td>\n",
       "    </tr>\n",
       "    <tr>\n",
       "      <th>3</th>\n",
       "      <td>4895</td>\n",
       "      <td>B01IW9TQPK</td>\n",
       "      <td>Trevor Noah</td>\n",
       "      <td>Bios &amp; Memoirs</td>\n",
       "      <td>8 hrs and 44 mins</td>\n",
       "      <td>https://www.audible.com/pd/Born-a-Crime-Audiob...</td>\n",
       "      <td>Trevor Noah</td>\n",
       "      <td>24.95</td>\n",
       "      <td>5.0</td>\n",
       "      <td>123838.0</td>\n",
       "      <td>2016-11-15</td>\n",
       "      <td>Born a Crime</td>\n",
       "    </tr>\n",
       "    <tr>\n",
       "      <th>4</th>\n",
       "      <td>282008</td>\n",
       "      <td>B01I28NFEE</td>\n",
       "      <td>Mark Manson</td>\n",
       "      <td>Self Development</td>\n",
       "      <td>5 hrs and 17 mins</td>\n",
       "      <td>https://www.audible.com/pd/The-Subtle-Art-of-N...</td>\n",
       "      <td>Roger Wayne</td>\n",
       "      <td>23.95</td>\n",
       "      <td>4.5</td>\n",
       "      <td>113261.0</td>\n",
       "      <td>2016-09-13</td>\n",
       "      <td>The Subtle Art of Not Giving a F*ck</td>\n",
       "    </tr>\n",
       "  </tbody>\n",
       "</table>\n",
       "</div>"
      ],
      "text/plain": [
       "    index        asin         author               category  \\\n",
       "0  247928  B005FRGT44   Ernest Cline       Sci-Fi & Fantasy   \n",
       "1  248009  B00B5HZGUG      Andy Weir       Sci-Fi & Fantasy   \n",
       "2  142087  B00QXW5GYY  Paula Hawkins  Mysteries & Thrillers   \n",
       "3    4895  B01IW9TQPK    Trevor Noah         Bios & Memoirs   \n",
       "4  282008  B01I28NFEE    Mark Manson       Self Development   \n",
       "\n",
       "               length                                               link  \\\n",
       "0  15 hrs and 40 mins  https://www.audible.com/pd/Ready-Player-One-Au...   \n",
       "1  10 hrs and 53 mins  https://www.audible.com/pd/The-Martian-Audiobo...   \n",
       "2  10 hrs and 58 mins  https://www.audible.com/pd/The-Girl-on-the-Tra...   \n",
       "3   8 hrs and 44 mins  https://www.audible.com/pd/Born-a-Crime-Audiob...   \n",
       "4   5 hrs and 17 mins  https://www.audible.com/pd/The-Subtle-Art-of-N...   \n",
       "\n",
       "                                      narrator  price  rating  rating_count  \\\n",
       "0                                  Wil Wheaton  31.50     5.0      216094.0   \n",
       "1                                   R. C. Bray  29.99     5.0      164988.0   \n",
       "2  Clare Corbett, Louise Brealey, India Fisher  28.00     4.5      133818.0   \n",
       "3                                  Trevor Noah  24.95     5.0      123838.0   \n",
       "4                                  Roger Wayne  23.95     4.5      113261.0   \n",
       "\n",
       "  release_date                                title  \n",
       "0   2011-08-16                     Ready Player One  \n",
       "1   2013-03-22                          The Martian  \n",
       "2   2015-01-13                The Girl on the Train  \n",
       "3   2016-11-15                         Born a Crime  \n",
       "4   2016-09-13  The Subtle Art of Not Giving a F*ck  "
      ]
     },
     "execution_count": 5,
     "metadata": {},
     "output_type": "execute_result"
    }
   ],
   "source": [
    "df.head()"
   ]
  },
  {
   "cell_type": "code",
   "execution_count": 10,
   "metadata": {},
   "outputs": [
    {
     "data": {
      "image/png": "[encoded data removed]",
      "text/plain": [
       "<Figure size 432x288 with 1 Axes>"
      ]
     },
     "metadata": {
      "needs_background": "light"
     },
     "output_type": "display_data"
    }
   ],
   "source": [
    "top_n = 50000\n",
    "x = list(range(top_n))\n",
    "cumsum = df.iloc[:top_n]['rating_count'].cumsum()/total_ratings\n",
    "plt.plot(x, cumsum);"
   ]
  },
  {
   "cell_type": "code",
   "execution_count": 7,
   "metadata": {},
   "outputs": [
    {
     "data": {
      "text/plain": [
       "436796"
      ]
     },
     "execution_count": 7,
     "metadata": {},
     "output_type": "execute_result"
    }
   ],
   "source": [
    "len(df)"
   ]
  },
  {
   "cell_type": "code",
   "execution_count": 19,
   "metadata": {},
   "outputs": [
    {
     "data": {
      "text/plain": [
       "4417"
      ]
     },
     "execution_count": 19,
     "metadata": {},
     "output_type": "execute_result"
    }
   ],
   "source": [
    "cutoff_ind = cumsum[cumsum>0.5].index[0]\n",
    "df = df.iloc[:cutoff_ind]\n",
    "# df = df.iloc[800:820]\n",
    "cutoff_ind"
   ]
  },
  {
   "cell_type": "code",
   "execution_count": 12,
   "metadata": {},
   "outputs": [],
   "source": [
    "asin_list = list(df['asin'])"
   ]
  },
  {
   "cell_type": "code",
   "execution_count": 13,
   "metadata": {},
   "outputs": [],
   "source": [
    "asin_list = asin_list[5000:5020]"
   ]
  },
  {
   "cell_type": "code",
   "execution_count": 14,
   "metadata": {},
   "outputs": [],
   "source": [
    "def get_overall_rating(asin, rating_dict):\n",
    "    sess = HTMLSession()\n",
    "    r = sess.get(f\"https://www.audible.com/pd/{asin}\")\n",
    "    rating_dict[asin] = np.float(r.html.find('div.bc-row.bc-spacing-small', \n",
    "                                             first=False)[1].text.split(' stars ')[1][:3])\n",
    "    sess.close()\n",
    "    return rating_dict\n",
    "\n",
    "\n",
    "def get_reviews(asin):\n",
    "    baseurl = f'https://www.audible.com/pd/reviews?country=US&asin={asin}&page='\n",
    "    page_num = 0\n",
    "    ratings_reviews = []\n",
    "    sess = HTMLSession()\n",
    "    \n",
    "    while True:\n",
    "        try:\n",
    "            url = baseurl + str(page_num)\n",
    "            r = sess.get(url).html\n",
    "            page_elements = r.find('div.bc-row-responsive.bc-spacing-top-medium', first=False)\n",
    "            for elem in page_elements:\n",
    "                review = elem.find(f'div.bc-col-responsive.USreviews{page_num}.bc-col-9', first=True).text\n",
    "                ratings = [item.text[0] for item in elem.find('span.bc-text')]\n",
    "                ratings_reviews.append((review, *ratings))\n",
    "            page_num += 1\n",
    "            \n",
    "        except:\n",
    "            print(page_num)\n",
    "            break\n",
    "    \n",
    "    sess.close()\n",
    "    return ratings_reviews\n",
    "\n",
    "\n",
    "def get_ratings_and_reviews(asins, rating_dict, reviews):\n",
    "    for asin in asins:\n",
    "        rating_dict = (get_overall_rating(asin, rating_dict))\n",
    "        reviews.extend(get_reviews(asin))\n",
    "#         print(reviews)\n",
    "    return rating_dict, reviews"
   ]
  },
  {
   "cell_type": "code",
   "execution_count": 15,
   "metadata": {},
   "outputs": [],
   "source": [
    "def threaded_ratings(nthreads, asins, rating_dict=None, reviews=None):\n",
    "    if rating_dict == None:\n",
    "        rating_dict = {}\n",
    "        \n",
    "    if reviews == None:\n",
    "        reviews = []\n",
    "        \n",
    "    threads = []\n",
    "    for i in range(nthreads):\n",
    "        asin_group = asins[i::nthreads]\n",
    "        t = Thread(target=get_ratings_and_reviews, args=(asin_group, rating_dict, reviews))\n",
    "        threads.append(t)\n",
    "        \n",
    "    [t.start() for t in threads]\n",
    "    [t.join() for t in threads]\n",
    "    \n",
    "    return rating_dict, reviews"
   ]
  },
  {
   "cell_type": "code",
   "execution_count": 16,
   "metadata": {},
   "outputs": [
    {
     "name": "stdout",
     "output_type": "stream",
     "text": [
      "6\n",
      "6\n",
      "10\n",
      "13\n",
      "5\n",
      "15\n",
      "15\n",
      "9\n",
      "9\n",
      "5\n",
      "13\n",
      "10\n",
      "13\n",
      "16\n",
      "15\n",
      "6\n",
      "15\n",
      "29\n",
      "9\n",
      "9\n",
      "29.16919183731079\n"
     ]
    }
   ],
   "source": [
    "start = time.time()\n",
    "rating_dict = {}\n",
    "rating_dict, reviews = threaded_ratings(6, asin_list, rating_dict)\n",
    "end = time.time()\n",
    "print(end-start)"
   ]
  },
  {
   "cell_type": "code",
   "execution_count": 17,
   "metadata": {},
   "outputs": [
    {
     "data": {
      "text/plain": [
       "2216"
      ]
     },
     "execution_count": 17,
     "metadata": {},
     "output_type": "execute_result"
    }
   ],
   "source": [
    "len(reviews)"
   ]
  },
  {
   "cell_type": "code",
   "execution_count": null,
   "metadata": {},
   "outputs": [],
   "source": [
    "# url = 'https://www.audible.com/pd/reviews?country=US&asin=B00JU4QCMC&page=0'\n",
    "# sess = HTMLSession()\n",
    "# r = sess.get(url).html\n",
    "# page_elements = r.find('div.bc-row-responsive.bc-spacing-top-medium', first=False)\n",
    "            "
   ]
  },
  {
   "cell_type": "code",
   "execution_count": null,
   "metadata": {},
   "outputs": [],
   "source": [
    "# page_elements"
   ]
  },
  {
   "cell_type": "code",
   "execution_count": null,
   "metadata": {},
   "outputs": [],
   "source": [
    "rev_df = pd.DataFrame(data=reviews, columns=['text', 'overall', 'performance', 'story'])"
   ]
  },
  {
   "cell_type": "code",
   "execution_count": null,
   "metadata": {},
   "outputs": [],
   "source": [
    "rev_df['overall'] = rev_df['overall'].astype(str)"
   ]
  },
  {
   "cell_type": "code",
   "execution_count": null,
   "metadata": {},
   "outputs": [],
   "source": [
    "nums = ['1','2','3','4','5']\n",
    "scores = rev_df[rev_df.isin(nums)].drop('text', axis=1).dropna().astype(int)"
   ]
  },
  {
   "cell_type": "code",
   "execution_count": null,
   "metadata": {},
   "outputs": [],
   "source": [
    "scores.hist()"
   ]
  },
  {
   "cell_type": "code",
   "execution_count": null,
   "metadata": {},
   "outputs": [],
   "source": [
    "rev_df['text_length'] = rev_df['text'].apply(len)"
   ]
  },
  {
   "cell_type": "code",
   "execution_count": null,
   "metadata": {},
   "outputs": [],
   "source": [
    "rev_df['text_length'].hist(bins=50, range=(0, 2000))"
   ]
  },
  {
   "cell_type": "code",
   "execution_count": null,
   "metadata": {},
   "outputs": [],
   "source": [
    "rev_df.sort_values('text_length', inplace=True)"
   ]
  },
  {
   "cell_type": "code",
   "execution_count": null,
   "metadata": {},
   "outputs": [],
   "source": [
    "y = rev_df['text_length'].cumsum()/rev_df['text_length'].sum()"
   ]
  },
  {
   "cell_type": "code",
   "execution_count": null,
   "metadata": {},
   "outputs": [],
   "source": [
    "import matplotlib.pyplot as plt\n",
    "plt.plot(rev_df['text_length'], y)"
   ]
  },
  {
   "cell_type": "code",
   "execution_count": null,
   "metadata": {},
   "outputs": [],
   "source": [
    "txt = 'i was impressed by the overall narrative, but felt the author could have used some better organization'\n",
    "len(txt)"
   ]
  },
  {
   "cell_type": "code",
   "execution_count": null,
   "metadata": {},
   "outputs": [],
   "source": [
    "alltext = list(rev_df['text'].values)"
   ]
  },
  {
   "cell_type": "code",
   "execution_count": null,
   "metadata": {},
   "outputs": [],
   "source": [
    "allwords = ' '.join(alltext)"
   ]
  },
  {
   "cell_type": "code",
   "execution_count": null,
   "metadata": {},
   "outputs": [],
   "source": [
    "allwords.split()[:50]"
   ]
  },
  {
   "cell_type": "code",
   "execution_count": null,
   "metadata": {},
   "outputs": [],
   "source": []
  }
 ],
 "metadata": {
  "kernelspec": {
   "display_name": "Python 3",
   "language": "python",
   "name": "python3"
  },
  "language_info": {
   "codemirror_mode": {
    "name": "ipython",
    "version": 3
   },
   "file_extension": ".py",
   "mimetype": "text/x-python",
   "name": "python",
   "nbconvert_exporter": "python",
   "pygments_lexer": "ipython3",
   "version": "3.7.2"
  }
 },
 "nbformat": 4,
 "nbformat_minor": 2
}
